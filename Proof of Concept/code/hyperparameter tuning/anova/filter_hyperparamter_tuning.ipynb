{
 "cells": [
  {
   "cell_type": "code",
   "execution_count": 1,
   "metadata": {},
   "outputs": [],
   "source": [
    "import pandas as pd\n",
    "import numpy as np\n",
    "from sklearn.feature_selection import VarianceThreshold\n",
    "from sklearn.model_selection import train_test_split\n",
    "from sklearn.feature_selection import SelectKBest, f_classif, mutual_info_classif, chi2, r_regression\n",
    "from scipy import stats\n",
    "from sklearn.metrics import confusion_matrix,ConfusionMatrixDisplay\n",
    "from sklearn import metrics\n",
    "from sklearn import svm\n",
    "from sklearn.feature_selection import SequentialFeatureSelector\n",
    "from sklearn.model_selection import GridSearchCV, RandomizedSearchCV\n",
    "from skopt.space import Real\n",
    "from skopt.space import Categorical\n",
    "from skopt import BayesSearchCV"
   ]
  },
  {
   "cell_type": "code",
   "execution_count": 6,
   "metadata": {},
   "outputs": [
    {
     "data": {
      "text/plain": [
       "['extracted_features.csv']"
      ]
     },
     "execution_count": 6,
     "metadata": {},
     "output_type": "execute_result"
    }
   ],
   "source": [
    "import os\n",
    "\n",
    "os.listdir('../../../dataset/extracted_features/')"
   ]
  },
  {
   "cell_type": "code",
   "execution_count": 7,
   "metadata": {},
   "outputs": [],
   "source": [
    "cleaned_df=pd.read_csv('../../../dataset/extracted_features/extracted_features.csv')\n",
    "cleaned_df.set_index('url',inplace=True)\n",
    "cleaned_df=cleaned_df.replace({'legitimate': 0, 'phishing': 1})\n",
    "cleaned_df.rename(columns = {'status':'phishing'}, inplace = True)"
   ]
  },
  {
   "cell_type": "code",
   "execution_count": 8,
   "metadata": {},
   "outputs": [
    {
     "data": {
      "text/plain": [
       "array([[  0,   0,  37, ...,   0,   0,   0],\n",
       "       [  1,   0,  77, ...,   0,   0,   0],\n",
       "       [  1,   1, 126, ...,   0,   0,   0],\n",
       "       ...,\n",
       "       [  0,   1, 105, ...,   0,   0,   0],\n",
       "       [  0,   0,  38, ...,   0,   0,   0],\n",
       "       [  1,   0, 477, ...,   0,   0,   0]], dtype=int64)"
      ]
     },
     "execution_count": 8,
     "metadata": {},
     "output_type": "execute_result"
    }
   ],
   "source": [
    "selector = VarianceThreshold()\n",
    "selector.fit_transform(cleaned_df)"
   ]
  },
  {
   "cell_type": "code",
   "execution_count": 9,
   "metadata": {},
   "outputs": [],
   "source": [
    "cleaned_df=cleaned_df.loc[:, selector.get_support()]"
   ]
  },
  {
   "cell_type": "code",
   "execution_count": 10,
   "metadata": {},
   "outputs": [],
   "source": [
    "features=cleaned_df.loc[:,'https_true':]\n",
    "label=cleaned_df.loc[:,'phishing']"
   ]
  },
  {
   "cell_type": "code",
   "execution_count": 11,
   "metadata": {},
   "outputs": [],
   "source": [
    "X_train, X_test, y_train, y_test = train_test_split(features, label, test_size=0.3,random_state=42)"
   ]
  },
  {
   "cell_type": "code",
   "execution_count": 12,
   "metadata": {},
   "outputs": [
    {
     "name": "stderr",
     "output_type": "stream",
     "text": [
      "c:\\Users\\patri\\anaconda3\\envs\\phishing\\lib\\site-packages\\sklearn\\feature_selection\\_univariate_selection.py:112: UserWarning: Features [40] are constant.\n",
      "  warnings.warn(\"Features %s are constant.\" % constant_features_idx, UserWarning)\n",
      "c:\\Users\\patri\\anaconda3\\envs\\phishing\\lib\\site-packages\\sklearn\\feature_selection\\_univariate_selection.py:113: RuntimeWarning: invalid value encountered in divide\n",
      "  f = msb / msw\n"
     ]
    }
   ],
   "source": [
    "fc = SelectKBest(score_func=f_classif, k=30)\n",
    "fc.fit(X_train,y_train)\n",
    "X_train_selected=X_train.loc[:, fc.get_support()]\n",
    "X_test_selected=X_test.loc[:, fc.get_support()]"
   ]
  },
  {
   "cell_type": "code",
   "execution_count": null,
   "metadata": {},
   "outputs": [],
   "source": [
    "def hyperpara_opt(train_x,train_y):\n",
    "  tuned_parameters = [{'kernel': ['rbf'],'C': [0.1,1, 10, 100, 1000],'gamma':[0.1,0.01,0.001,0.0001]},\n",
    "                    {'kernel': ['linear'], 'C': [0.1,1, 10, 100, 1000],'gamma':[0.1,0.01,0.001,0.0001]},\n",
    "                     {'kernel': ['sigmoid'], 'C': [0.1,1, 10, 100, 1000],'gamma':[0.1,0.01,0.001,0.0001]}]\n",
    "                    #{'kernel': ['poly'], 'C': [0.1,1, 10, 100, 1000],'gamma':[0.1,0.01,0.001]}]\n",
    "  grid=GridSearchCV(svm.SVC(),param_grid=tuned_parameters,verbose=20,n_jobs=-4,cv=4, scoring='accuracy')\n",
    "  grid.fit(train_x,train_y)\n",
    "  #model= svm.SVC(C=grid.best_estimator_.C, gamma=grid.best_estimator_.gamma,kernel=grid.best_estimator_.kernel)\n",
    "  #model.fit(train_x,train_y)\n",
    "  print(grid.best_estimator_)\n",
    "  print('Best score for data:', grid.best_score_)\n",
    "  print('Best C:',grid.best_estimator_.C) \n",
    "  print('Best Kernel:',grid.best_estimator_.kernel)\n",
    "  print('Best Gamma:',grid.best_estimator_.gamma)\n",
    "  #return model"
   ]
  },
  {
   "cell_type": "code",
   "execution_count": null,
   "metadata": {},
   "outputs": [],
   "source": [
    "hyperpara_opt(X_train,y_train)"
   ]
  },
  {
   "cell_type": "markdown",
   "metadata": {},
   "source": [
    "Fitting 4 folds for each of 60 candidates, totalling 240 fits\n",
    "SVC(C=100, gamma=0.01)\n",
    "Best score for data: 0.8187739255372315\n",
    "Best C: 100\n",
    "Best Kernel: rbf\n",
    "Best Gamma: 0.01"
   ]
  },
  {
   "cell_type": "code",
   "execution_count": 13,
   "metadata": {},
   "outputs": [
    {
     "name": "stdout",
     "output_type": "stream",
     "text": [
      "[LibSVM]Accuracy: 0.8078156897054535\n",
      "Recall: 0.7766647024160283\n"
     ]
    },
    {
     "data": {
      "text/plain": [
       "<sklearn.metrics._plot.confusion_matrix.ConfusionMatrixDisplay at 0x2e1638a3100>"
      ]
     },
     "execution_count": 13,
     "metadata": {},
     "output_type": "execute_result"
    },
    {
     "data": {
      "image/png": "[encoded data removed]",
      "text/plain": [
       "<Figure size 640x480 with 2 Axes>"
      ]
     },
     "metadata": {},
     "output_type": "display_data"
    }
   ],
   "source": [
    "clf = svm.SVC(kernel='rbf',C=100,gamma=0.01,verbose=True)\n",
    "clf.fit(X_train_selected, y_train)\n",
    "y_pred = clf.predict(X_test_selected)\n",
    "print(\"Accuracy:\",metrics.accuracy_score(y_test, y_pred))\n",
    "print(\"Recall:\",metrics.recall_score(y_test, y_pred))\n",
    "conf_mat = confusion_matrix(y_test,y_pred)\n",
    "displ = ConfusionMatrixDisplay(confusion_matrix=conf_mat)\n",
    "displ.plot()"
   ]
  },
  {
   "cell_type": "code",
   "execution_count": null,
   "metadata": {},
   "outputs": [],
   "source": [
    "def hyperpara_random_opt(train_x,train_y):\n",
    "  tuned_parameters = [{'kernel': ['rbf'],'C': [0.1,1, 10, 100, 1000],'gamma':[0.1,0.01,0.001]},\n",
    "                    {'kernel': ['linear'], 'C': [0.1,1, 10, 100, 1000],'gamma':[0.1,0.01,0.001]},\n",
    "                     {'kernel': ['sigmoid'], 'C': [0.1,1, 10, 100, 1000],'gamma': [0.1,0.01,0.001]}]\n",
    "                    #{'kernel': ['poly'], 'C': [0.1,1, 10, 100, 1000],'gamma':[0.1,0.01,0.001]}]\n",
    "  random=RandomizedSearchCV(svm.SVC(),param_distributions=tuned_parameters,verbose=20,n_jobs=-4,cv=4, scoring='accuracy')\n",
    "  random.fit(train_x,train_y)\n",
    "  #model= svm.SVC(C=grid.best_estimator_.C, gamma=grid.best_estimator_.gamma,kernel=grid.best_estimator_.kernel)\n",
    "  #model.fit(train_x,train_y)\n",
    "  print(random.best_estimator_)\n",
    "  print('Best score for data:', random.best_score_)\n",
    "  print('Best C:',random.best_estimator_.C) \n",
    "  print('Best Kernel:',random.best_estimator_.kernel)\n",
    "  print('Best Gamma:',random.best_estimator_.gamma)"
   ]
  },
  {
   "cell_type": "code",
   "execution_count": null,
   "metadata": {},
   "outputs": [],
   "source": [
    "hyperpara_random_opt(X_train_selected,y_train)"
   ]
  },
  {
   "cell_type": "markdown",
   "metadata": {},
   "source": [
    "Fitting 4 folds for each of 10 candidates, totalling 40 fits\n",
    "SVC(C=10, gamma=0.001)\n",
    "Best score for data: 0.799276111944028 \n",
    "Best C: 10 Best Kernel: rbf \n",
    "Best Gamma: 0.001"
   ]
  },
  {
   "cell_type": "code",
   "execution_count": 14,
   "metadata": {},
   "outputs": [
    {
     "name": "stdout",
     "output_type": "stream",
     "text": [
      "[LibSVM]Accuracy: 0.7981918926800816\n",
      "Recall: 0.7583971714790807\n"
     ]
    },
    {
     "data": {
      "text/plain": [
       "<sklearn.metrics._plot.confusion_matrix.ConfusionMatrixDisplay at 0x2e16368c730>"
      ]
     },
     "execution_count": 14,
     "metadata": {},
     "output_type": "execute_result"
    },
    {
     "data": {
      "image/png": "[encoded data removed]",
      "text/plain": [
       "<Figure size 640x480 with 2 Axes>"
      ]
     },
     "metadata": {},
     "output_type": "display_data"
    }
   ],
   "source": [
    "clf = svm.SVC(kernel='rbf',C=10,gamma=0.001,verbose=True)\n",
    "clf.fit(X_train_selected, y_train)\n",
    "y_pred = clf.predict(X_test_selected)\n",
    "print(\"Accuracy:\",metrics.accuracy_score(y_test, y_pred))\n",
    "print(\"Recall:\",metrics.recall_score(y_test, y_pred))\n",
    "conf_mat = confusion_matrix(y_test,y_pred)\n",
    "displ = ConfusionMatrixDisplay(confusion_matrix=conf_mat)\n",
    "displ.plot()"
   ]
  },
  {
   "cell_type": "code",
   "execution_count": null,
   "metadata": {},
   "outputs": [],
   "source": [
    "params = {\n",
    "    'C': Real(1e-6, 100, prior='log-uniform'),\n",
    "    'gamma': Real(1e-6, 100, prior='log-uniform'),\n",
    "    'kernel': Categorical(['linear', 'sigmoid', 'rbf']),\n",
    "}"
   ]
  },
  {
   "cell_type": "code",
   "execution_count": null,
   "metadata": {},
   "outputs": [],
   "source": [
    "opt = BayesSearchCV(\n",
    "    svm.SVC(),\n",
    "    search_spaces=params,\n",
    "    cv=4,\n",
    "    scoring='accuracy',\n",
    "    #random_state=42,\n",
    "    n_iter=20,\n",
    "    verbose=1,\n",
    ")\n",
    "np.int = int"
   ]
  },
  {
   "cell_type": "code",
   "execution_count": null,
   "metadata": {},
   "outputs": [],
   "source": [
    "opt.fit(X_train_selected,y_train)"
   ]
  },
  {
   "cell_type": "markdown",
   "metadata": {},
   "source": [
    "0.8168991754122938\n",
    "OrderedDict([('C', 40.75578686240225), ('gamma', 0.012721120945522295), ('kernel', 'rbf')])"
   ]
  },
  {
   "cell_type": "code",
   "execution_count": 15,
   "metadata": {},
   "outputs": [
    {
     "name": "stdout",
     "output_type": "stream",
     "text": [
      "[LibSVM]Accuracy: 0.8101487314085739\n",
      "Recall: 0.7813789039481438\n"
     ]
    },
    {
     "data": {
      "text/plain": [
       "<sklearn.metrics._plot.confusion_matrix.ConfusionMatrixDisplay at 0x2e1638e71c0>"
      ]
     },
     "execution_count": 15,
     "metadata": {},
     "output_type": "execute_result"
    },
    {
     "data": {
      "image/png": "[encoded data removed]",
      "text/plain": [
       "<Figure size 640x480 with 2 Axes>"
      ]
     },
     "metadata": {},
     "output_type": "display_data"
    }
   ],
   "source": [
    "clf = svm.SVC(kernel='rbf',C=40.75578686240225,gamma=0.012721120945522295,verbose=True)\n",
    "clf.fit(X_train_selected, y_train)\n",
    "y_pred = clf.predict(X_test_selected)\n",
    "print(\"Accuracy:\",metrics.accuracy_score(y_test, y_pred))\n",
    "print(\"Recall:\",metrics.recall_score(y_test, y_pred))\n",
    "conf_mat = confusion_matrix(y_test,y_pred)\n",
    "displ = ConfusionMatrixDisplay(confusion_matrix=conf_mat)\n",
    "displ.plot()"
   ]
  }
 ],
 "metadata": {
  "kernelspec": {
   "display_name": "phishing",
   "language": "python",
   "name": "python3"
  },
  "language_info": {
   "codemirror_mode": {
    "name": "ipython",
    "version": 3
   },
   "file_extension": ".py",
   "mimetype": "text/x-python",
   "name": "python",
   "nbconvert_exporter": "python",
   "pygments_lexer": "ipython3",
   "version": "3.10.12"
  }
 },
 "nbformat": 4,
 "nbformat_minor": 2
}
