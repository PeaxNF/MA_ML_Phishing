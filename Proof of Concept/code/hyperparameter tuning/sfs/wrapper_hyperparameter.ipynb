{
 "cells": [
  {
   "cell_type": "code",
   "execution_count": 1,
   "metadata": {},
   "outputs": [],
   "source": [
    "import pandas as pd\n",
    "import numpy as np\n",
    "from sklearn.feature_selection import VarianceThreshold\n",
    "from sklearn.model_selection import train_test_split\n",
    "from sklearn.feature_selection import SelectKBest, f_classif, mutual_info_classif, chi2, r_regression\n",
    "from scipy import stats\n",
    "from sklearn.metrics import confusion_matrix,ConfusionMatrixDisplay\n",
    "from sklearn import metrics\n",
    "from sklearn import svm\n",
    "from sklearn.feature_selection import SequentialFeatureSelector\n",
    "from sklearn.model_selection import GridSearchCV, RandomizedSearchCV\n",
    "from skopt.space import Real\n",
    "from skopt.space import Categorical\n",
    "from skopt import BayesSearchCV\n"
   ]
  },
  {
   "cell_type": "code",
   "execution_count": null,
   "metadata": {},
   "outputs": [],
   "source": [
    "import os\n",
    "\n",
    "os.listdir('../../../dataset/extracted_features/')"
   ]
  },
  {
   "cell_type": "code",
   "execution_count": 2,
   "metadata": {},
   "outputs": [],
   "source": [
    "cleaned_df=pd.read_csv('../../../dataset/extracted_features/extracted_features.csv')\n",
    "cleaned_df.set_index('url',inplace=True)\n",
    "cleaned_df=cleaned_df.replace({'legitimate': 0, 'phishing': 1})\n",
    "cleaned_df.rename(columns = {'status':'phishing'}, inplace = True)"
   ]
  },
  {
   "cell_type": "code",
   "execution_count": 3,
   "metadata": {},
   "outputs": [
    {
     "data": {
      "text/plain": [
       "array([[  0,   0,  37, ...,   0,   0,   0],\n",
       "       [  1,   0,  77, ...,   0,   0,   0],\n",
       "       [  1,   1, 126, ...,   0,   0,   0],\n",
       "       ...,\n",
       "       [  0,   1, 105, ...,   0,   0,   0],\n",
       "       [  0,   0,  38, ...,   0,   0,   0],\n",
       "       [  1,   0, 477, ...,   0,   0,   0]], dtype=int64)"
      ]
     },
     "execution_count": 3,
     "metadata": {},
     "output_type": "execute_result"
    }
   ],
   "source": [
    "selector = VarianceThreshold()\n",
    "selector.fit_transform(cleaned_df)"
   ]
  },
  {
   "cell_type": "code",
   "execution_count": 4,
   "metadata": {},
   "outputs": [],
   "source": [
    "cleaned_df=cleaned_df.loc[:, selector.get_support()]"
   ]
  },
  {
   "cell_type": "code",
   "execution_count": 5,
   "metadata": {},
   "outputs": [],
   "source": [
    "features=cleaned_df.loc[:,'https_true':]\n",
    "label=cleaned_df.loc[:,'phishing']"
   ]
  },
  {
   "cell_type": "code",
   "execution_count": 6,
   "metadata": {},
   "outputs": [],
   "source": [
    "X_train, X_test, y_train, y_test = train_test_split(features, label, test_size=0.3,random_state=42)"
   ]
  },
  {
   "cell_type": "code",
   "execution_count": null,
   "metadata": {},
   "outputs": [],
   "source": [
    "clf = svm.SVC(verbose=True)\n",
    "sfs = SequentialFeatureSelector(clf,n_features_to_select=30,scoring='accuracy')"
   ]
  },
  {
   "cell_type": "code",
   "execution_count": null,
   "metadata": {},
   "outputs": [],
   "source": [
    "X_test_sfs_selected=X_test.loc[:, sfs.get_support()]\n",
    "X_train_sfs_selected=X_train.loc[:, sfs.get_support()]"
   ]
  },
  {
   "cell_type": "code",
   "execution_count": 7,
   "metadata": {},
   "outputs": [],
   "source": [
    "X_test_sfs_selected=X_test.loc[:,['url_underline_count', 'url_hyphen_count', 'url_slash_count',\n",
    "       'url_questionmark_count', 'url_equal_count', 'url_at_count',\n",
    "       'url_and_count', 'url_exclamation_count', 'url_space_count',\n",
    "       'url_comma_count', 'url_plus_count', 'url_asterisk_count',\n",
    "       'url_dollar_count', 'hostname_dot_count', 'hostname_underline_count',\n",
    "       'hostname_hyphen_count', 'hostname_isip', 'query_slash_count',\n",
    "       'query_questionmark_count', 'query_at_count', 'query_space_count',\n",
    "       'query_space_encoded_count', 'query_tilde_count', 'file_dot_count',\n",
    "       'file_underline_count', 'file_hyphen_count', 'file_equal_count',\n",
    "       'file_and_count', 'file_exclamation_count', 'file_space_encoded_count']]"
   ]
  },
  {
   "cell_type": "code",
   "execution_count": 8,
   "metadata": {},
   "outputs": [],
   "source": [
    "X_train_sfs_selected=X_train.loc[:,['url_underline_count', 'url_hyphen_count', 'url_slash_count',\n",
    "       'url_questionmark_count', 'url_equal_count', 'url_at_count',\n",
    "       'url_and_count', 'url_exclamation_count', 'url_space_count',\n",
    "       'url_comma_count', 'url_plus_count', 'url_asterisk_count',\n",
    "       'url_dollar_count', 'hostname_dot_count', 'hostname_underline_count',\n",
    "       'hostname_hyphen_count', 'hostname_isip', 'query_slash_count',\n",
    "       'query_questionmark_count', 'query_at_count', 'query_space_count',\n",
    "       'query_space_encoded_count', 'query_tilde_count', 'file_dot_count',\n",
    "       'file_underline_count', 'file_hyphen_count', 'file_equal_count',\n",
    "       'file_and_count', 'file_exclamation_count', 'file_space_encoded_count']]"
   ]
  },
  {
   "cell_type": "code",
   "execution_count": null,
   "metadata": {},
   "outputs": [],
   "source": [
    "def hyperpara_opt(train_x,train_y):\n",
    "  tuned_parameters = [{'kernel': ['rbf'],'C': [0.1,1, 10, 100, 1000],'gamma':[0.1,0.01,0.001,0.0001]},\n",
    "                    {'kernel': ['linear'], 'C': [0.1,1, 10, 100, 1000],'gamma':[0.1,0.01,0.001,0.0001]},\n",
    "                     {'kernel': ['sigmoid'], 'C': [0.1,1, 10, 100, 1000],'gamma':[0.1,0.01,0.001,0.0001]}]\n",
    "                    #{'kernel': ['poly'], 'C': [0.1,1, 10, 100, 1000],'gamma':[0.1,0.01,0.001]}]\n",
    "  grid=GridSearchCV(svm.SVC(),param_grid=tuned_parameters,verbose=20,n_jobs=-4,cv=4, scoring='accuracy')\n",
    "  grid.fit(train_x,train_y)\n",
    "  #model= svm.SVC(C=grid.best_estimator_.C, gamma=grid.best_estimator_.gamma,kernel=grid.best_estimator_.kernel)\n",
    "  #model.fit(train_x,train_y)\n",
    "  print(grid.best_estimator_)\n",
    "  print('Best score for data:', grid.best_score_)\n",
    "  print('Best C:',grid.best_estimator_.C) \n",
    "  print('Best Kernel:',grid.best_estimator_.kernel)\n",
    "  print('Best Gamma:',grid.best_estimator_.gamma)\n",
    "  #return model"
   ]
  },
  {
   "cell_type": "code",
   "execution_count": null,
   "metadata": {},
   "outputs": [],
   "source": [
    "hyperpara_opt(X_train_sfs_selected,y_train)"
   ]
  },
  {
   "cell_type": "markdown",
   "metadata": {},
   "source": [
    "Fitting 4 folds for each of 35 candidates, totalling 140 fits\n",
    "SVC(C=100, gamma='auto')\n",
    "Best score for data: 0.7850268615692153\n",
    "Best C: 100\n",
    "Best Kernel: rbf\n",
    "Best Gamma: auto"
   ]
  },
  {
   "cell_type": "code",
   "execution_count": 9,
   "metadata": {},
   "outputs": [
    {
     "name": "stdout",
     "output_type": "stream",
     "text": [
      "[LibSVM]Accuracy: 0.773986585010207\n",
      "Recall: 0.7472009428403065\n"
     ]
    },
    {
     "data": {
      "text/plain": [
       "<sklearn.metrics._plot.confusion_matrix.ConfusionMatrixDisplay at 0x23b2befbf70>"
      ]
     },
     "execution_count": 9,
     "metadata": {},
     "output_type": "execute_result"
    },
    {
     "data": {
      "image/png": "[encoded data removed]",
      "text/plain": [
       "<Figure size 640x480 with 2 Axes>"
      ]
     },
     "metadata": {},
     "output_type": "display_data"
    }
   ],
   "source": [
    "clf = svm.SVC(kernel='rbf',C=100,gamma='auto',verbose=True)\n",
    "clf.fit(X_train_sfs_selected, y_train)\n",
    "y_pred = clf.predict(X_test_sfs_selected)\n",
    "print(\"Accuracy:\",metrics.accuracy_score(y_test, y_pred))\n",
    "print(\"Recall:\",metrics.recall_score(y_test, y_pred))\n",
    "conf_mat = confusion_matrix(y_test,y_pred)\n",
    "displ = ConfusionMatrixDisplay(confusion_matrix=conf_mat)\n",
    "displ.plot()"
   ]
  },
  {
   "cell_type": "code",
   "execution_count": null,
   "metadata": {},
   "outputs": [],
   "source": [
    "def hyperpara_random_opt(train_x,train_y):\n",
    "  tuned_parameters = [{'kernel': ['rbf'],'C': [0.1,1, 10, 100, 1000],'gamma':[0.1,0.01,0.001]},\n",
    "                    {'kernel': ['linear'], 'C': [0.1,1, 10, 100, 1000],'gamma':[0.1,0.01,0.001]},\n",
    "                     {'kernel': ['sigmoid'], 'C': [0.1,1, 10, 100, 1000],'gamma': [0.1,0.01,0.001]}]\n",
    "                    #{'kernel': ['poly'], 'C': [0.1,1, 10, 100, 1000],'gamma':[0.1,0.01,0.001]}]\n",
    "  random=RandomizedSearchCV(svm.SVC(),param_distributions=tuned_parameters,verbose=20,n_jobs=-4,cv=4, scoring='accuracy')\n",
    "  random.fit(train_x,train_y)\n",
    "  #model= svm.SVC(C=grid.best_estimator_.C, gamma=grid.best_estimator_.gamma,kernel=grid.best_estimator_.kernel)\n",
    "  #model.fit(train_x,train_y)\n",
    "  print(random.best_estimator_)\n",
    "  print('Best score for data:', random.best_score_)\n",
    "  print('Best C:',random.best_estimator_.C) \n",
    "  print('Best Kernel:',random.best_estimator_.kernel)\n",
    "  print('Best Gamma:',random.best_estimator_.gamma)"
   ]
  },
  {
   "cell_type": "code",
   "execution_count": null,
   "metadata": {},
   "outputs": [],
   "source": [
    "hyperpara_random_opt(X_train_sfs_selected,y_train)"
   ]
  },
  {
   "cell_type": "markdown",
   "metadata": {},
   "source": [
    "Fitting 4 folds for each of 10 candidates, totalling 40 fits\n",
    "SVC(C=1000, gamma=0.1)\n",
    "Best score for data: 0.799276111944028 \n",
    "Best C: 1000 Best Kernel: rbf \n",
    "Best Gamma: 0.1"
   ]
  },
  {
   "cell_type": "code",
   "execution_count": 12,
   "metadata": {},
   "outputs": [
    {
     "name": "stdout",
     "output_type": "stream",
     "text": [
      "[LibSVM]Accuracy: 0.7707786526684165\n",
      "Recall: 0.7407189157336476\n"
     ]
    },
    {
     "data": {
      "text/plain": [
       "<sklearn.metrics._plot.confusion_matrix.ConfusionMatrixDisplay at 0x23b307ff9d0>"
      ]
     },
     "execution_count": 12,
     "metadata": {},
     "output_type": "execute_result"
    },
    {
     "data": {
      "image/png": "[encoded data removed]",
      "text/plain": [
       "<Figure size 640x480 with 2 Axes>"
      ]
     },
     "metadata": {},
     "output_type": "display_data"
    }
   ],
   "source": [
    "clf = svm.SVC(kernel='rbf',C=1000,gamma=0.1,verbose=True)\n",
    "clf.fit(X_train_sfs_selected, y_train)\n",
    "y_pred = clf.predict(X_test_sfs_selected)\n",
    "print(\"Accuracy:\",metrics.accuracy_score(y_test, y_pred))\n",
    "print(\"Recall:\",metrics.recall_score(y_test, y_pred))\n",
    "conf_mat = confusion_matrix(y_test,y_pred)\n",
    "displ = ConfusionMatrixDisplay(confusion_matrix=conf_mat)\n",
    "displ.plot()"
   ]
  },
  {
   "cell_type": "code",
   "execution_count": null,
   "metadata": {},
   "outputs": [],
   "source": [
    "params = {\n",
    "    'C': Real(1e-6, 100, prior='log-uniform'),\n",
    "    'gamma': Real(1e-6, 100, prior='log-uniform'),\n",
    "    'kernel': Categorical(['linear', 'sigmoid', 'rbf']),\n",
    "}"
   ]
  },
  {
   "cell_type": "code",
   "execution_count": null,
   "metadata": {},
   "outputs": [],
   "source": [
    "opt = BayesSearchCV(\n",
    "    svm.SVC(),\n",
    "    search_spaces=params,\n",
    "    cv=4,\n",
    "    scoring='accuracy',\n",
    "    #random_state=42,\n",
    "    n_iter=20,\n",
    "    verbose=1,\n",
    ")\n",
    "np.int = int"
   ]
  },
  {
   "cell_type": "code",
   "execution_count": null,
   "metadata": {},
   "outputs": [],
   "source": [
    "opt.fit(X_train_sfs_selected,y_train)"
   ]
  },
  {
   "cell_type": "markdown",
   "metadata": {},
   "source": [
    "0.7859991754122938\n",
    "OrderedDict([('C', 2.5116092327118134), ('gamma', 0.012721120945522295), ('kernel', 'rbf')])\n"
   ]
  },
  {
   "cell_type": "code",
   "execution_count": 11,
   "metadata": {},
   "outputs": [
    {
     "name": "stdout",
     "output_type": "stream",
     "text": [
      "[LibSVM]Accuracy: 0.7748614756488772\n",
      "Recall: 0.7489687684148497\n"
     ]
    },
    {
     "data": {
      "text/plain": [
       "<sklearn.metrics._plot.confusion_matrix.ConfusionMatrixDisplay at 0x23b3382b940>"
      ]
     },
     "execution_count": 11,
     "metadata": {},
     "output_type": "execute_result"
    },
    {
     "data": {
      "image/png": "[encoded data removed]",
      "text/plain": [
       "<Figure size 640x480 with 2 Axes>"
      ]
     },
     "metadata": {},
     "output_type": "display_data"
    }
   ],
   "source": [
    "clf = svm.SVC(kernel='rbf',C=2.5116092327118134,gamma=0.22733231952650634,verbose=True)\n",
    "clf.fit(X_train_sfs_selected, y_train)\n",
    "y_pred = clf.predict(X_test_sfs_selected)\n",
    "print(\"Accuracy:\",metrics.accuracy_score(y_test, y_pred))\n",
    "print(\"Recall:\",metrics.recall_score(y_test, y_pred))\n",
    "conf_mat = confusion_matrix(y_test,y_pred)\n",
    "displ = ConfusionMatrixDisplay(confusion_matrix=conf_mat)\n",
    "displ.plot()"
   ]
  }
 ],
 "metadata": {
  "kernelspec": {
   "display_name": "phishing",
   "language": "python",
   "name": "python3"
  },
  "language_info": {
   "codemirror_mode": {
    "name": "ipython",
    "version": 3
   },
   "file_extension": ".py",
   "mimetype": "text/x-python",
   "name": "python",
   "nbconvert_exporter": "python",
   "pygments_lexer": "ipython3",
   "version": "3.10.12"
  }
 },
 "nbformat": 4,
 "nbformat_minor": 2
}
