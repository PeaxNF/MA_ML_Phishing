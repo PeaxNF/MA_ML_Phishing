{
 "cells": [
  {
   "cell_type": "code",
   "execution_count": 4,
   "metadata": {},
   "outputs": [],
   "source": [
    "import mysql.connector as connection\n",
    "import pandas as pd\n",
    "import preperation_functions\n",
    "import os\n"
   ]
  },
  {
   "cell_type": "code",
   "execution_count": 2,
   "metadata": {},
   "outputs": [
    {
     "name": "stderr",
     "output_type": "stream",
     "text": [
      "/tmp/ipykernel_9514/1094112001.py:4: UserWarning: pandas only supports SQLAlchemy connectable (engine/connection) or database string URI or sqlite3 DBAPI2 connection. Other DBAPI2 objects are not tested. Please consider using SQLAlchemy.\n",
      "  complete_df = pd.read_sql(query,mydb)\n"
     ]
    }
   ],
   "source": [
    "try:\n",
    "    mydb = connection.connect(host=\"localhost\", database = 'phishing',user=\"phishing_user\", passwd=\"password\",use_pure=True)\n",
    "    query = \"Select * from phishing;\"\n",
    "    complete_df = pd.read_sql(query,mydb)\n",
    "    mydb.close() #close the connection\n",
    "except Exception as e:\n",
    "    mydb.close()\n",
    "    print(str(e))"
   ]
  },
  {
   "cell_type": "code",
   "execution_count": 3,
   "metadata": {},
   "outputs": [
    {
     "data": {
      "text/html": [
       "<div>\n",
       "<style scoped>\n",
       "    .dataframe tbody tr th:only-of-type {\n",
       "        vertical-align: middle;\n",
       "    }\n",
       "\n",
       "    .dataframe tbody tr th {\n",
       "        vertical-align: top;\n",
       "    }\n",
       "\n",
       "    .dataframe thead th {\n",
       "        text-align: right;\n",
       "    }\n",
       "</style>\n",
       "<table border=\"1\" class=\"dataframe\">\n",
       "  <thead>\n",
       "    <tr style=\"text-align: right;\">\n",
       "      <th></th>\n",
       "      <th>rec_id</th>\n",
       "      <th>url</th>\n",
       "      <th>website</th>\n",
       "      <th>result</th>\n",
       "      <th>created_date</th>\n",
       "    </tr>\n",
       "  </thead>\n",
       "  <tbody>\n",
       "    <tr>\n",
       "      <th>0</th>\n",
       "      <td>1</td>\n",
       "      <td>http://intego3.info/EXEL/index.php</td>\n",
       "      <td>1613573972338075.html</td>\n",
       "      <td>1</td>\n",
       "      <td>2021-02-17 20:29:32</td>\n",
       "    </tr>\n",
       "    <tr>\n",
       "      <th>1</th>\n",
       "      <td>2</td>\n",
       "      <td>https://www.mathopenref.com/segment.html</td>\n",
       "      <td>1635698138155948.html</td>\n",
       "      <td>0</td>\n",
       "      <td>2021-10-31 16:35:38</td>\n",
       "    </tr>\n",
       "    <tr>\n",
       "      <th>2</th>\n",
       "      <td>3</td>\n",
       "      <td>https://www.computerhope.com/issues/ch000254.htm</td>\n",
       "      <td>1635699228889266.html</td>\n",
       "      <td>0</td>\n",
       "      <td>2021-10-31 16:53:48</td>\n",
       "    </tr>\n",
       "    <tr>\n",
       "      <th>3</th>\n",
       "      <td>4</td>\n",
       "      <td>https://www.investopedia.com/terms/n/next-elev...</td>\n",
       "      <td>1635750062162701.html</td>\n",
       "      <td>0</td>\n",
       "      <td>2021-11-01 12:31:02</td>\n",
       "    </tr>\n",
       "    <tr>\n",
       "      <th>4</th>\n",
       "      <td>5</td>\n",
       "      <td>https://jobs.emss.org.uk/lcc.aspx</td>\n",
       "      <td>161356510250721.html</td>\n",
       "      <td>0</td>\n",
       "      <td>2021-02-17 18:01:42</td>\n",
       "    </tr>\n",
       "    <tr>\n",
       "      <th>...</th>\n",
       "      <td>...</td>\n",
       "      <td>...</td>\n",
       "      <td>...</td>\n",
       "      <td>...</td>\n",
       "      <td>...</td>\n",
       "    </tr>\n",
       "    <tr>\n",
       "      <th>79995</th>\n",
       "      <td>79996</td>\n",
       "      <td>https://bestjobmanage.com/adminservicedesk/True/</td>\n",
       "      <td>1622125898152592.html</td>\n",
       "      <td>1</td>\n",
       "      <td>2021-05-27 14:31:38</td>\n",
       "    </tr>\n",
       "    <tr>\n",
       "      <th>79996</th>\n",
       "      <td>79997</td>\n",
       "      <td>http://vieuxshack.com/download/adobe/b51f18074...</td>\n",
       "      <td>160822961118687.html</td>\n",
       "      <td>1</td>\n",
       "      <td>2020-12-17 23:56:51</td>\n",
       "    </tr>\n",
       "    <tr>\n",
       "      <th>79997</th>\n",
       "      <td>79998</td>\n",
       "      <td>https://www.tumblr.com/search/gas%20mask%20tattoo</td>\n",
       "      <td>163570726902772.html</td>\n",
       "      <td>0</td>\n",
       "      <td>2021-10-31 19:07:49</td>\n",
       "    </tr>\n",
       "    <tr>\n",
       "      <th>79998</th>\n",
       "      <td>79999</td>\n",
       "      <td>https://www.magnetic-shield.com/pdf/wc_4.pdf</td>\n",
       "      <td>1635701992217159.html</td>\n",
       "      <td>0</td>\n",
       "      <td>2021-10-31 17:39:52</td>\n",
       "    </tr>\n",
       "    <tr>\n",
       "      <th>79999</th>\n",
       "      <td>80000</td>\n",
       "      <td>https://sqm50.codesandbox.io/</td>\n",
       "      <td>1613575077067764.html</td>\n",
       "      <td>1</td>\n",
       "      <td>2021-02-17 20:47:57</td>\n",
       "    </tr>\n",
       "  </tbody>\n",
       "</table>\n",
       "<p>80000 rows × 5 columns</p>\n",
       "</div>"
      ],
      "text/plain": [
       "       rec_id                                                url  \\\n",
       "0           1                 http://intego3.info/EXEL/index.php   \n",
       "1           2           https://www.mathopenref.com/segment.html   \n",
       "2           3   https://www.computerhope.com/issues/ch000254.htm   \n",
       "3           4  https://www.investopedia.com/terms/n/next-elev...   \n",
       "4           5                  https://jobs.emss.org.uk/lcc.aspx   \n",
       "...       ...                                                ...   \n",
       "79995   79996   https://bestjobmanage.com/adminservicedesk/True/   \n",
       "79996   79997  http://vieuxshack.com/download/adobe/b51f18074...   \n",
       "79997   79998  https://www.tumblr.com/search/gas%20mask%20tattoo   \n",
       "79998   79999       https://www.magnetic-shield.com/pdf/wc_4.pdf   \n",
       "79999   80000                      https://sqm50.codesandbox.io/   \n",
       "\n",
       "                     website  result        created_date  \n",
       "0      1613573972338075.html       1 2021-02-17 20:29:32  \n",
       "1      1635698138155948.html       0 2021-10-31 16:35:38  \n",
       "2      1635699228889266.html       0 2021-10-31 16:53:48  \n",
       "3      1635750062162701.html       0 2021-11-01 12:31:02  \n",
       "4       161356510250721.html       0 2021-02-17 18:01:42  \n",
       "...                      ...     ...                 ...  \n",
       "79995  1622125898152592.html       1 2021-05-27 14:31:38  \n",
       "79996   160822961118687.html       1 2020-12-17 23:56:51  \n",
       "79997   163570726902772.html       0 2021-10-31 19:07:49  \n",
       "79998  1635701992217159.html       0 2021-10-31 17:39:52  \n",
       "79999  1613575077067764.html       1 2021-02-17 20:47:57  \n",
       "\n",
       "[80000 rows x 5 columns]"
      ]
     },
     "execution_count": 3,
     "metadata": {},
     "output_type": "execute_result"
    }
   ],
   "source": [
    "complete_df"
   ]
  },
  {
   "cell_type": "code",
   "execution_count": 26,
   "metadata": {},
   "outputs": [],
   "source": [
    "complete_df.drop(columns=['rec_id', 'created_date'],inplace=True)\n",
    "complete_df.rename(columns = {'result':'phishing'}, inplace = True)\n",
    "complete_df.to_csv('../../dataset/sql_extracted/complete_df.csv',index=False)"
   ]
  },
  {
   "cell_type": "code",
   "execution_count": 29,
   "metadata": {},
   "outputs": [],
   "source": [
    "filt=(complete_df['phishing'] == 1) \n",
    "df_phish=complete_df[filt]\n",
    "df_phish = df_phish.sample(n = 10000, random_state = 12).copy()\n",
    "df_phish.reset_index(drop=True,inplace=True)\n",
    "df_phish.to_csv('../../dataset/selected/phishing/phishing_selected_df.csv',index=False)"
   ]
  },
  {
   "cell_type": "code",
   "execution_count": 32,
   "metadata": {},
   "outputs": [],
   "source": [
    "filt=(complete_df['phishing'] == 0) \n",
    "df_legit=complete_df[filt]\n",
    "df_legit = df_legit.sample(n = 10000, random_state = 12).copy()\n",
    "df_legit.reset_index(drop=True,inplace=True)\n",
    "df_legit.to_csv('../../dataset/selected/legit/legit_selected_df.csv',index=False)"
   ]
  },
  {
   "cell_type": "code",
   "execution_count": 33,
   "metadata": {},
   "outputs": [],
   "source": [
    "preperation_functions.parseurl(df_phish)\n",
    "df_phish.to_csv('../../dataset/prepared/phishing/phishing_prepared_df.csv',index=False)"
   ]
  },
  {
   "cell_type": "code",
   "execution_count": 40,
   "metadata": {},
   "outputs": [],
   "source": [
    "preperation_functions.parseurl(df_legit)\n",
    "df_legit.to_csv('../../dataset/prepared/legit/legit_prepared_df.csv',index=False)"
   ]
  }
 ],
 "metadata": {
  "kernelspec": {
   "display_name": "testenv",
   "language": "python",
   "name": "python3"
  },
  "language_info": {
   "codemirror_mode": {
    "name": "ipython",
    "version": 3
   },
   "file_extension": ".py",
   "mimetype": "text/x-python",
   "name": "python",
   "nbconvert_exporter": "python",
   "pygments_lexer": "ipython3",
   "version": "3.12.1"
  }
 },
 "nbformat": 4,
 "nbformat_minor": 2
}
