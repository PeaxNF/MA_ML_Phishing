{
 "cells": [
  {
   "cell_type": "code",
   "execution_count": null,
   "metadata": {},
   "outputs": [],
   "source": [
    "import pandas as pd\n",
    "import html_features_fnc"
   ]
  },
  {
   "cell_type": "code",
   "execution_count": null,
   "metadata": {},
   "outputs": [],
   "source": [
    "legit_df=pd.read_csv('../../../dataset/prepared/legit/legit_prepared_df.csv', keep_default_na=False)\n",
    "html_features_legit=html_features_fnc.html_features(legit_df)\n",
    "html_features_legit.to_csv('../../../training_data/html_features/legit/html_features_legit.csv',index=False)"
   ]
  },
  {
   "cell_type": "code",
   "execution_count": null,
   "metadata": {},
   "outputs": [],
   "source": [
    "phishing_df=pd.read_csv('../../../dataset/prepared/phishing/phishing_prepared_df.csv', keep_default_na=False)\n",
    "html_features_phishing=html_features_fnc.html_features(phishing_df)\n",
    "html_features_phishing.to_csv('../../../training_data/html_features/phishing/html_features_phishing.csv',index=False)"
   ]
  }
 ],
 "metadata": {
  "language_info": {
   "name": "python"
  }
 },
 "nbformat": 4,
 "nbformat_minor": 2
}
