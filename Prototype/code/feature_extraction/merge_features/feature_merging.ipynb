{
 "cells": [
  {
   "cell_type": "code",
   "execution_count": 33,
   "metadata": {},
   "outputs": [],
   "source": [
    "import feature_merging_fnc\n",
    "import pandas as pd"
   ]
  },
  {
   "cell_type": "code",
   "execution_count": 21,
   "metadata": {},
   "outputs": [],
   "source": [
    "filepaths_legit_features=['../../../training_data/url_features/legit/url_features_legit.csv','../../../training_data/html_features/legit/html_features_legit.csv','../../../training_data/external_features/openpagerank/legit/external_features_googlepagerank_legit.csv','../../../training_data/external_features/cantina/legit/parts_merged/external_features_cantina_legit.csv']\n",
    "filepaths_phishing_features=['../../../training_data/url_features/phishing/url_features_phishing.csv','../../../training_data/html_features/phishing/html_features_phishing.csv','../../../training_data/external_features/openpagerank/phishing/external_features_googlepagerank_phishing.csv','../../../training_data/external_features/cantina/phishing/parts_merged/external_features_cantina_phishing.csv']"
   ]
  },
  {
   "cell_type": "code",
   "execution_count": null,
   "metadata": {},
   "outputs": [],
   "source": [
    "features_merged_df=feature_merging_fnc.dataframe_append(filepaths_legit_features,filepaths_phishing_features)\n",
    "features_merged_df.set_index('url',inplace=True)\n",
    "features_merged_df.to_csv('../../../training_data/merged_features/merged_features.csv',index=True)"
   ]
  }
 ],
 "metadata": {
  "kernelspec": {
   "display_name": "testenv",
   "language": "python",
   "name": "python3"
  },
  "language_info": {
   "codemirror_mode": {
    "name": "ipython",
    "version": 3
   },
   "file_extension": ".py",
   "mimetype": "text/x-python",
   "name": "python",
   "nbconvert_exporter": "python",
   "pygments_lexer": "ipython3",
   "version": "3.12.1"
  }
 },
 "nbformat": 4,
 "nbformat_minor": 2
}
