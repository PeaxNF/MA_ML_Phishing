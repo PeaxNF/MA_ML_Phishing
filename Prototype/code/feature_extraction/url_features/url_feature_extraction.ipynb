{
 "cells": [
  {
   "cell_type": "code",
   "execution_count": null,
   "metadata": {},
   "outputs": [],
   "source": [
    "import pandas as pd\n",
    "import os\n",
    "import url_features_fnc"
   ]
  },
  {
   "cell_type": "code",
   "execution_count": 17,
   "metadata": {},
   "outputs": [],
   "source": [
    "legit_df=pd.read_csv('../../../dataset/prepared/legit/legit_prepared_df.csv', keep_default_na=False)\n",
    "url_features_legit=url_features_fnc.feature_generator(legit_df)\n",
    "url_features_legit.to_csv('../../../training_data/url_features/legit/url_features_legit.csv',index=False)"
   ]
  },
  {
   "cell_type": "code",
   "execution_count": 18,
   "metadata": {},
   "outputs": [],
   "source": [
    "phishing_df=pd.read_csv('../../../dataset/prepared/phishing/phishing_prepared_df.csv', keep_default_na=False)\n",
    "url_features_phishing=url_features_fnc.feature_generator(phishing_df)\n",
    "url_features_phishing.to_csv('../../../training_data/url_features/phishing/url_features_phishing.csv',index=False)"
   ]
  }
 ],
 "metadata": {
  "kernelspec": {
   "display_name": "testenv",
   "language": "python",
   "name": "python3"
  },
  "language_info": {
   "codemirror_mode": {
    "name": "ipython",
    "version": 3
   },
   "file_extension": ".py",
   "mimetype": "text/x-python",
   "name": "python",
   "nbconvert_exporter": "python",
   "pygments_lexer": "ipython3",
   "version": "3.12.1"
  }
 },
 "nbformat": 4,
 "nbformat_minor": 2
}
