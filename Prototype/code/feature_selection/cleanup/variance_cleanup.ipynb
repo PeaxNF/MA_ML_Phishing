{
 "cells": [
  {
   "cell_type": "code",
   "execution_count": 9,
   "metadata": {},
   "outputs": [],
   "source": [
    "import pandas as pd\n",
    "from sklearn.feature_selection import VarianceThreshold"
   ]
  },
  {
   "cell_type": "code",
   "execution_count": 5,
   "metadata": {},
   "outputs": [],
   "source": [
    "merged_df=pd.read_csv('../../../training_data/merged_features/merged_features.csv')\n",
    "merged_df.set_index('url',inplace=True)"
   ]
  },
  {
   "cell_type": "code",
   "execution_count": 11,
   "metadata": {},
   "outputs": [],
   "source": [
    "selector = VarianceThreshold()\n",
    "selector.fit_transform(merged_df)\n",
    "removed_features=merged_df.loc[:, ~selector.get_support()]\n",
    "removed_features.to_csv('../../../training_data/variance_cleanup_features/variance_cleanup_removed_features.csv')\n",
    "selected_features=merged_df.loc[:, selector.get_support()]\n",
    "selected_features.to_csv('../../../training_data/variance_cleanup_features/variance_cleanup_selected_features.csv')"
   ]
  }
 ],
 "metadata": {
  "kernelspec": {
   "display_name": "testenv",
   "language": "python",
   "name": "python3"
  },
  "language_info": {
   "codemirror_mode": {
    "name": "ipython",
    "version": 3
   },
   "file_extension": ".py",
   "mimetype": "text/x-python",
   "name": "python",
   "nbconvert_exporter": "python",
   "pygments_lexer": "ipython3",
   "version": "3.12.1"
  }
 },
 "nbformat": 4,
 "nbformat_minor": 2
}
