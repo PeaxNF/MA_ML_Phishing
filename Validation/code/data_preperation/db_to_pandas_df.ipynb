{
 "cells": [
  {
   "cell_type": "code",
   "execution_count": 1,
   "metadata": {},
   "outputs": [],
   "source": [
    "import pandas as pd\n",
    "import preperation_functions"
   ]
  },
  {
   "cell_type": "code",
   "execution_count": 6,
   "metadata": {},
   "outputs": [],
   "source": [
    "legit_df=pd.read_csv('../../dataset/legit/legit_dataset.csv', keep_default_na=False)\n",
    "preperation_functions.parseurl(legit_df)\n",
    "legit_df.to_csv('../../dataset/legit/prepared/legit_prepared_df.csv',index=False)"
   ]
  },
  {
   "cell_type": "code",
   "execution_count": 13,
   "metadata": {},
   "outputs": [
    {
     "name": "stderr",
     "output_type": "stream",
     "text": [
      "/home/selenium/anaconda3/envs/testenv/lib/python3.12/html/parser.py:171: XMLParsedAsHTMLWarning: It looks like you're parsing an XML document using an HTML parser. If this really is an HTML document (maybe it's XHTML?), you can ignore or filter this warning. If it's XML, you should know that using an XML parser will be more reliable. To parse this document as XML, make sure you have the lxml package installed, and pass the keyword argument `features=\"xml\"` into the BeautifulSoup constructor.\n",
      "  k = self.parse_starttag(i)\n"
     ]
    }
   ],
   "source": [
    "phishing_df=pd.read_csv('../../dataset/phishing/phishing_dataset.csv', keep_default_na=False)\n",
    "preperation_functions.precheck(phishing_df)\n",
    "phishing_df=phishing_df[['url', 'website','phishing','check']]\n",
    "filt=phishing_df['check'] < 1\n",
    "phishing_df=phishing_df[~filt]\n",
    "phishing_df.drop(columns=['check'],inplace=True)\n",
    "preperation_functions.parseurl(phishing_df)\n",
    "phishing_df.to_csv('../../dataset/phishing/prepared/phishing_prepared_df.csv',index=False)\n"
   ]
  }
 ],
 "metadata": {
  "kernelspec": {
   "display_name": "testenv",
   "language": "python",
   "name": "python3"
  },
  "language_info": {
   "codemirror_mode": {
    "name": "ipython",
    "version": 3
   },
   "file_extension": ".py",
   "mimetype": "text/x-python",
   "name": "python",
   "nbconvert_exporter": "python",
   "pygments_lexer": "ipython3",
   "version": "3.12.1"
  }
 },
 "nbformat": 4,
 "nbformat_minor": 2
}
