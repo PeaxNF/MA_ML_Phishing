{
 "cells": [
  {
   "cell_type": "code",
   "execution_count": 1,
   "metadata": {},
   "outputs": [],
   "source": [
    "import pandas as pd\n",
    "import requests\n",
    "from bs4 import BeautifulSoup\n",
    "import time\n",
    "import pickle\n",
    "from urllib.parse import urlparse\n",
    "import tldextract\n",
    "import datacollection\n",
    "from zipfile import ZipFile \n",
    "import random\n",
    "from comcrawl import IndexClient\n",
    "import json\n",
    "from io import BytesIO\n",
    "import gzip\n",
    "import datacollection"
   ]
  },
  {
   "cell_type": "code",
   "execution_count": 2,
   "metadata": {},
   "outputs": [],
   "source": [
    "response = requests.get('https://www.domcop.com/files/top/top10milliondomains.csv.zip')\n",
    "\n",
    "with open('../../dataset/legit/top10milliondomains.csv.zip', 'wb') as f:\n",
    "    f.write(response.content)"
   ]
  },
  {
   "cell_type": "code",
   "execution_count": 6,
   "metadata": {},
   "outputs": [],
   "source": [
    "with ZipFile('../../dataset/legit/top10milliondomains.csv.zip', 'r') as zObject:\n",
    "    zObject.extractall(path='../../dataset/legit')"
   ]
  },
  {
   "cell_type": "code",
   "execution_count": 2,
   "metadata": {},
   "outputs": [],
   "source": [
    "topdomainpagerank_df=pd.read_csv('../../dataset/legit/top10milliondomains.csv')"
   ]
  },
  {
   "cell_type": "code",
   "execution_count": null,
   "metadata": {},
   "outputs": [],
   "source": [
    "legit_df=datacollection.datacollector_legit(10,topdomainpagerank_df,1000,'../../dataset/htmlfiles')"
   ]
  },
  {
   "cell_type": "code",
   "execution_count": 8,
   "metadata": {},
   "outputs": [],
   "source": [
    "legit_df['phishing']=0"
   ]
  },
  {
   "cell_type": "code",
   "execution_count": 9,
   "metadata": {},
   "outputs": [
    {
     "data": {
      "text/html": [
       "<div>\n",
       "<style scoped>\n",
       "    .dataframe tbody tr th:only-of-type {\n",
       "        vertical-align: middle;\n",
       "    }\n",
       "\n",
       "    .dataframe tbody tr th {\n",
       "        vertical-align: top;\n",
       "    }\n",
       "\n",
       "    .dataframe thead th {\n",
       "        text-align: right;\n",
       "    }\n",
       "</style>\n",
       "<table border=\"1\" class=\"dataframe\">\n",
       "  <thead>\n",
       "    <tr style=\"text-align: right;\">\n",
       "      <th></th>\n",
       "      <th>url</th>\n",
       "      <th>website</th>\n",
       "      <th>phishing</th>\n",
       "    </tr>\n",
       "  </thead>\n",
       "  <tbody>\n",
       "    <tr>\n",
       "      <th>1</th>\n",
       "      <td>https://developers.facebook.com/docs/workplace...</td>\n",
       "      <td>facebook_1709999285266242.html</td>\n",
       "      <td>0</td>\n",
       "    </tr>\n",
       "    <tr>\n",
       "      <th>2</th>\n",
       "      <td>https://developers.facebook.com/docs/workplace...</td>\n",
       "      <td>facebook_1709999286180987.html</td>\n",
       "      <td>0</td>\n",
       "    </tr>\n",
       "    <tr>\n",
       "      <th>3</th>\n",
       "      <td>https://developers.facebook.com/docs/workplace...</td>\n",
       "      <td>facebook_1709999287892264.html</td>\n",
       "      <td>0</td>\n",
       "    </tr>\n",
       "    <tr>\n",
       "      <th>4</th>\n",
       "      <td>https://developers.facebook.com/docs/workplace...</td>\n",
       "      <td>facebook_1709999288979749.html</td>\n",
       "      <td>0</td>\n",
       "    </tr>\n",
       "    <tr>\n",
       "      <th>5</th>\n",
       "      <td>https://developers.facebook.com/brad.the.piano...</td>\n",
       "      <td>facebook_1709999289763312.html</td>\n",
       "      <td>0</td>\n",
       "    </tr>\n",
       "    <tr>\n",
       "      <th>...</th>\n",
       "      <td>...</td>\n",
       "      <td>...</td>\n",
       "      <td>...</td>\n",
       "    </tr>\n",
       "    <tr>\n",
       "      <th>1003</th>\n",
       "      <td>https://auto.schema.org/organizer</td>\n",
       "      <td>schema_1710001720266994.html</td>\n",
       "      <td>0</td>\n",
       "    </tr>\n",
       "    <tr>\n",
       "      <th>1004</th>\n",
       "      <td>https://schema.org/Property</td>\n",
       "      <td>schema_1710001721041041.html</td>\n",
       "      <td>0</td>\n",
       "    </tr>\n",
       "    <tr>\n",
       "      <th>1005</th>\n",
       "      <td>https://schema.org/musicArrangement</td>\n",
       "      <td>schema_1710001722010129.html</td>\n",
       "      <td>0</td>\n",
       "    </tr>\n",
       "    <tr>\n",
       "      <th>1006</th>\n",
       "      <td>https://iot.schema.org/governmentBenefitsInfo</td>\n",
       "      <td>schema_1710001723067676.html</td>\n",
       "      <td>0</td>\n",
       "    </tr>\n",
       "    <tr>\n",
       "      <th>1007</th>\n",
       "      <td>https://meta.schema.org/leaseLength</td>\n",
       "      <td>schema_1710001724037364.html</td>\n",
       "      <td>0</td>\n",
       "    </tr>\n",
       "  </tbody>\n",
       "</table>\n",
       "<p>1007 rows × 3 columns</p>\n",
       "</div>"
      ],
      "text/plain": [
       "                                                    url  \\\n",
       "1     https://developers.facebook.com/docs/workplace...   \n",
       "2     https://developers.facebook.com/docs/workplace...   \n",
       "3     https://developers.facebook.com/docs/workplace...   \n",
       "4     https://developers.facebook.com/docs/workplace...   \n",
       "5     https://developers.facebook.com/brad.the.piano...   \n",
       "...                                                 ...   \n",
       "1003                  https://auto.schema.org/organizer   \n",
       "1004                        https://schema.org/Property   \n",
       "1005                https://schema.org/musicArrangement   \n",
       "1006      https://iot.schema.org/governmentBenefitsInfo   \n",
       "1007                https://meta.schema.org/leaseLength   \n",
       "\n",
       "                             website  phishing  \n",
       "1     facebook_1709999285266242.html         0  \n",
       "2     facebook_1709999286180987.html         0  \n",
       "3     facebook_1709999287892264.html         0  \n",
       "4     facebook_1709999288979749.html         0  \n",
       "5     facebook_1709999289763312.html         0  \n",
       "...                              ...       ...  \n",
       "1003    schema_1710001720266994.html         0  \n",
       "1004    schema_1710001721041041.html         0  \n",
       "1005    schema_1710001722010129.html         0  \n",
       "1006    schema_1710001723067676.html         0  \n",
       "1007    schema_1710001724037364.html         0  \n",
       "\n",
       "[1007 rows x 3 columns]"
      ]
     },
     "execution_count": 9,
     "metadata": {},
     "output_type": "execute_result"
    }
   ],
   "source": [
    "legit_df"
   ]
  },
  {
   "cell_type": "code",
   "execution_count": 10,
   "metadata": {},
   "outputs": [],
   "source": [
    "legit_df.to_csv('../../dataset/legit/legit_dataset.csv',index=False)"
   ]
  }
 ],
 "metadata": {
  "kernelspec": {
   "display_name": "testenv",
   "language": "python",
   "name": "python3"
  },
  "language_info": {
   "codemirror_mode": {
    "name": "ipython",
    "version": 3
   },
   "file_extension": ".py",
   "mimetype": "text/x-python",
   "name": "python",
   "nbconvert_exporter": "python",
   "pygments_lexer": "ipython3",
   "version": "3.12.1"
  }
 },
 "nbformat": 4,
 "nbformat_minor": 2
}
