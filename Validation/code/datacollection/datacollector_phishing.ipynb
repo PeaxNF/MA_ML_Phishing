{
 "cells": [
  {
   "cell_type": "code",
   "execution_count": 2,
   "metadata": {},
   "outputs": [],
   "source": [
    "import pandas as pd\n",
    "import requests\n",
    "from bs4 import BeautifulSoup\n",
    "import time\n",
    "import pickle\n",
    "from urllib.parse import urlparse\n",
    "import tldextract\n",
    "import datacollection"
   ]
  },
  {
   "cell_type": "code",
   "execution_count": 14,
   "metadata": {},
   "outputs": [],
   "source": [
    "response = requests.get('http://data.phishtank.com/data/online-valid.csv')\n",
    "\n",
    "with open('../../dataset/phishing/verified_online.csv', 'wb') as f:\n",
    "    f.write(response.content)"
   ]
  },
  {
   "cell_type": "code",
   "execution_count": 3,
   "metadata": {},
   "outputs": [],
   "source": [
    "phishingtank_df=pd.read_csv('../../dataset/phishing/verified_online.csv')"
   ]
  },
  {
   "cell_type": "code",
   "execution_count": 4,
   "metadata": {},
   "outputs": [],
   "source": [
    "phishingtank_df\n",
    "phishingtank_df.drop(columns=['phish_id','phish_detail_url','submission_time','verified','verification_time','online','target'],inplace=True)\n",
    "#html_frame.drop(columns=['dom'],inplace=True)\n",
    "#html_frame.rename(columns = {'status':'phishing'}, inplace = True)\n",
    "#html_frame.rename(columns = {'index':'url'}, inplace = True)\n",
    "#html_frame.rename(columns = {'dom':'website'}, inplace = True)\n",
    "#html_frame=html_frame.replace({'legitimate': 0, 'phishing': 1})"
   ]
  },
  {
   "cell_type": "code",
   "execution_count": 5,
   "metadata": {},
   "outputs": [],
   "source": [
    "phishingtank_df['phishing']=1"
   ]
  },
  {
   "cell_type": "code",
   "execution_count": 6,
   "metadata": {},
   "outputs": [
    {
     "data": {
      "text/html": [
       "<div>\n",
       "<style scoped>\n",
       "    .dataframe tbody tr th:only-of-type {\n",
       "        vertical-align: middle;\n",
       "    }\n",
       "\n",
       "    .dataframe tbody tr th {\n",
       "        vertical-align: top;\n",
       "    }\n",
       "\n",
       "    .dataframe thead th {\n",
       "        text-align: right;\n",
       "    }\n",
       "</style>\n",
       "<table border=\"1\" class=\"dataframe\">\n",
       "  <thead>\n",
       "    <tr style=\"text-align: right;\">\n",
       "      <th></th>\n",
       "      <th>url</th>\n",
       "      <th>phishing</th>\n",
       "    </tr>\n",
       "  </thead>\n",
       "  <tbody>\n",
       "    <tr>\n",
       "      <th>0</th>\n",
       "      <td>https://docs.google.com/presentation/d/e/2PACX...</td>\n",
       "      <td>1</td>\n",
       "    </tr>\n",
       "    <tr>\n",
       "      <th>1</th>\n",
       "      <td>https://bafybeig7vnyswt4a3ryzewn2y6o6ldxcgzhay...</td>\n",
       "      <td>1</td>\n",
       "    </tr>\n",
       "    <tr>\n",
       "      <th>2</th>\n",
       "      <td>https://0t5i1xg0n2ddj-1324577277.cos.ap-jakart...</td>\n",
       "      <td>1</td>\n",
       "    </tr>\n",
       "    <tr>\n",
       "      <th>3</th>\n",
       "      <td>https://new.express.adobe.com/webpage/K89O6E5D...</td>\n",
       "      <td>1</td>\n",
       "    </tr>\n",
       "    <tr>\n",
       "      <th>4</th>\n",
       "      <td>https://www.zeflfgm.cn/?83ejbg0m</td>\n",
       "      <td>1</td>\n",
       "    </tr>\n",
       "  </tbody>\n",
       "</table>\n",
       "</div>"
      ],
      "text/plain": [
       "                                                 url  phishing\n",
       "0  https://docs.google.com/presentation/d/e/2PACX...         1\n",
       "1  https://bafybeig7vnyswt4a3ryzewn2y6o6ldxcgzhay...         1\n",
       "2  https://0t5i1xg0n2ddj-1324577277.cos.ap-jakart...         1\n",
       "3  https://new.express.adobe.com/webpage/K89O6E5D...         1\n",
       "4                   https://www.zeflfgm.cn/?83ejbg0m         1"
      ]
     },
     "execution_count": 6,
     "metadata": {},
     "output_type": "execute_result"
    }
   ],
   "source": [
    "phishingtank_df = phishingtank_df.sample(n = 2000, random_state = 12).copy()\n",
    "phishingtank_df = phishingtank_df.reset_index(drop=True)\n",
    "phishingtank_df.head()"
   ]
  },
  {
   "cell_type": "code",
   "execution_count": 7,
   "metadata": {},
   "outputs": [
    {
     "data": {
      "text/html": [
       "<div>\n",
       "<style scoped>\n",
       "    .dataframe tbody tr th:only-of-type {\n",
       "        vertical-align: middle;\n",
       "    }\n",
       "\n",
       "    .dataframe tbody tr th {\n",
       "        vertical-align: top;\n",
       "    }\n",
       "\n",
       "    .dataframe thead th {\n",
       "        text-align: right;\n",
       "    }\n",
       "</style>\n",
       "<table border=\"1\" class=\"dataframe\">\n",
       "  <thead>\n",
       "    <tr style=\"text-align: right;\">\n",
       "      <th></th>\n",
       "      <th>url</th>\n",
       "      <th>phishing</th>\n",
       "    </tr>\n",
       "  </thead>\n",
       "  <tbody>\n",
       "    <tr>\n",
       "      <th>0</th>\n",
       "      <td>https://docs.google.com/presentation/d/e/2PACX...</td>\n",
       "      <td>1</td>\n",
       "    </tr>\n",
       "    <tr>\n",
       "      <th>1</th>\n",
       "      <td>https://bafybeig7vnyswt4a3ryzewn2y6o6ldxcgzhay...</td>\n",
       "      <td>1</td>\n",
       "    </tr>\n",
       "    <tr>\n",
       "      <th>2</th>\n",
       "      <td>https://0t5i1xg0n2ddj-1324577277.cos.ap-jakart...</td>\n",
       "      <td>1</td>\n",
       "    </tr>\n",
       "    <tr>\n",
       "      <th>3</th>\n",
       "      <td>https://new.express.adobe.com/webpage/K89O6E5D...</td>\n",
       "      <td>1</td>\n",
       "    </tr>\n",
       "    <tr>\n",
       "      <th>4</th>\n",
       "      <td>https://www.zeflfgm.cn/?83ejbg0m</td>\n",
       "      <td>1</td>\n",
       "    </tr>\n",
       "    <tr>\n",
       "      <th>...</th>\n",
       "      <td>...</td>\n",
       "      <td>...</td>\n",
       "    </tr>\n",
       "    <tr>\n",
       "      <th>1995</th>\n",
       "      <td>https://zy2b1r.webwave.dev/</td>\n",
       "      <td>1</td>\n",
       "    </tr>\n",
       "    <tr>\n",
       "      <th>1996</th>\n",
       "      <td>https://pub-a74120e6cc664f18a0ed7ff888d4cd91.r...</td>\n",
       "      <td>1</td>\n",
       "    </tr>\n",
       "    <tr>\n",
       "      <th>1997</th>\n",
       "      <td>https://fill-the-appeal-form-here.github.io/me...</td>\n",
       "      <td>1</td>\n",
       "    </tr>\n",
       "    <tr>\n",
       "      <th>1998</th>\n",
       "      <td>http://subeservicios.com/us/delivery/c4fa7aece...</td>\n",
       "      <td>1</td>\n",
       "    </tr>\n",
       "    <tr>\n",
       "      <th>1999</th>\n",
       "      <td>https://sixad.com.br/one/Wellsfargo/</td>\n",
       "      <td>1</td>\n",
       "    </tr>\n",
       "  </tbody>\n",
       "</table>\n",
       "<p>2000 rows × 2 columns</p>\n",
       "</div>"
      ],
      "text/plain": [
       "                                                    url  phishing\n",
       "0     https://docs.google.com/presentation/d/e/2PACX...         1\n",
       "1     https://bafybeig7vnyswt4a3ryzewn2y6o6ldxcgzhay...         1\n",
       "2     https://0t5i1xg0n2ddj-1324577277.cos.ap-jakart...         1\n",
       "3     https://new.express.adobe.com/webpage/K89O6E5D...         1\n",
       "4                      https://www.zeflfgm.cn/?83ejbg0m         1\n",
       "...                                                 ...       ...\n",
       "1995                        https://zy2b1r.webwave.dev/         1\n",
       "1996  https://pub-a74120e6cc664f18a0ed7ff888d4cd91.r...         1\n",
       "1997  https://fill-the-appeal-form-here.github.io/me...         1\n",
       "1998  http://subeservicios.com/us/delivery/c4fa7aece...         1\n",
       "1999               https://sixad.com.br/one/Wellsfargo/         1\n",
       "\n",
       "[2000 rows x 2 columns]"
      ]
     },
     "execution_count": 7,
     "metadata": {},
     "output_type": "execute_result"
    }
   ],
   "source": [
    "phishingtank_df"
   ]
  },
  {
   "cell_type": "code",
   "execution_count": 21,
   "metadata": {},
   "outputs": [
    {
     "data": {
      "text/plain": [
       "'https://ipfs.eth.aragon.network/ipfs/bafybeiai6vyyauhumlmzetarfz6r6rysd7mn45k3hvvtssssha2ygddoc4/'"
      ]
     },
     "execution_count": 21,
     "metadata": {},
     "output_type": "execute_result"
    }
   ],
   "source": [
    "phishingtank_df.loc[15]['url']"
   ]
  },
  {
   "cell_type": "code",
   "execution_count": null,
   "metadata": {},
   "outputs": [],
   "source": [
    "phishingtank_df['website']=phishingtank_df['url'].apply(lambda x: datacollection.collectdata(x,'../../dataset/phishing/htmlfiles'))\n",
    "phishingtank_df.to_csv('phishing_dataset.csv',index=False)"
   ]
  },
  {
   "cell_type": "code",
   "execution_count": 9,
   "metadata": {},
   "outputs": [
    {
     "data": {
      "text/html": [
       "<div>\n",
       "<style scoped>\n",
       "    .dataframe tbody tr th:only-of-type {\n",
       "        vertical-align: middle;\n",
       "    }\n",
       "\n",
       "    .dataframe tbody tr th {\n",
       "        vertical-align: top;\n",
       "    }\n",
       "\n",
       "    .dataframe thead th {\n",
       "        text-align: right;\n",
       "    }\n",
       "</style>\n",
       "<table border=\"1\" class=\"dataframe\">\n",
       "  <thead>\n",
       "    <tr style=\"text-align: right;\">\n",
       "      <th></th>\n",
       "      <th>url</th>\n",
       "      <th>phishing</th>\n",
       "      <th>website</th>\n",
       "    </tr>\n",
       "  </thead>\n",
       "  <tbody>\n",
       "    <tr>\n",
       "      <th>0</th>\n",
       "      <td>https://docs.google.com/presentation/d/e/2PACX...</td>\n",
       "      <td>1</td>\n",
       "      <td>google_1709935345516118.html</td>\n",
       "    </tr>\n",
       "    <tr>\n",
       "      <th>1</th>\n",
       "      <td>https://bafybeig7vnyswt4a3ryzewn2y6o6ldxcgzhay...</td>\n",
       "      <td>1</td>\n",
       "      <td>thirdwebgateway_1709935345741516.html</td>\n",
       "    </tr>\n",
       "    <tr>\n",
       "      <th>2</th>\n",
       "      <td>https://0t5i1xg0n2ddj-1324577277.cos.ap-jakart...</td>\n",
       "      <td>1</td>\n",
       "      <td>myqcloud_1709935348327880.html</td>\n",
       "    </tr>\n",
       "    <tr>\n",
       "      <th>3</th>\n",
       "      <td>https://new.express.adobe.com/webpage/K89O6E5D...</td>\n",
       "      <td>1</td>\n",
       "      <td>adobe_1709935348853115.html</td>\n",
       "    </tr>\n",
       "    <tr>\n",
       "      <th>4</th>\n",
       "      <td>https://www.zeflfgm.cn/?83ejbg0m</td>\n",
       "      <td>1</td>\n",
       "      <td>0</td>\n",
       "    </tr>\n",
       "    <tr>\n",
       "      <th>...</th>\n",
       "      <td>...</td>\n",
       "      <td>...</td>\n",
       "      <td>...</td>\n",
       "    </tr>\n",
       "    <tr>\n",
       "      <th>1995</th>\n",
       "      <td>https://zy2b1r.webwave.dev/</td>\n",
       "      <td>1</td>\n",
       "      <td>webwave_1709936841854608.html</td>\n",
       "    </tr>\n",
       "    <tr>\n",
       "      <th>1996</th>\n",
       "      <td>https://pub-a74120e6cc664f18a0ed7ff888d4cd91.r...</td>\n",
       "      <td>1</td>\n",
       "      <td>r2_1709936842161557.html</td>\n",
       "    </tr>\n",
       "    <tr>\n",
       "      <th>1997</th>\n",
       "      <td>https://fill-the-appeal-form-here.github.io/me...</td>\n",
       "      <td>1</td>\n",
       "      <td>github_1709936842409192.html</td>\n",
       "    </tr>\n",
       "    <tr>\n",
       "      <th>1998</th>\n",
       "      <td>http://subeservicios.com/us/delivery/c4fa7aece...</td>\n",
       "      <td>1</td>\n",
       "      <td>subeservicios_1709936843217020.html</td>\n",
       "    </tr>\n",
       "    <tr>\n",
       "      <th>1999</th>\n",
       "      <td>https://sixad.com.br/one/Wellsfargo/</td>\n",
       "      <td>1</td>\n",
       "      <td>sixad_1709936844520324.html</td>\n",
       "    </tr>\n",
       "  </tbody>\n",
       "</table>\n",
       "<p>2000 rows × 3 columns</p>\n",
       "</div>"
      ],
      "text/plain": [
       "                                                    url  phishing  \\\n",
       "0     https://docs.google.com/presentation/d/e/2PACX...         1   \n",
       "1     https://bafybeig7vnyswt4a3ryzewn2y6o6ldxcgzhay...         1   \n",
       "2     https://0t5i1xg0n2ddj-1324577277.cos.ap-jakart...         1   \n",
       "3     https://new.express.adobe.com/webpage/K89O6E5D...         1   \n",
       "4                      https://www.zeflfgm.cn/?83ejbg0m         1   \n",
       "...                                                 ...       ...   \n",
       "1995                        https://zy2b1r.webwave.dev/         1   \n",
       "1996  https://pub-a74120e6cc664f18a0ed7ff888d4cd91.r...         1   \n",
       "1997  https://fill-the-appeal-form-here.github.io/me...         1   \n",
       "1998  http://subeservicios.com/us/delivery/c4fa7aece...         1   \n",
       "1999               https://sixad.com.br/one/Wellsfargo/         1   \n",
       "\n",
       "                                    website  \n",
       "0              google_1709935345516118.html  \n",
       "1     thirdwebgateway_1709935345741516.html  \n",
       "2            myqcloud_1709935348327880.html  \n",
       "3               adobe_1709935348853115.html  \n",
       "4                                         0  \n",
       "...                                     ...  \n",
       "1995          webwave_1709936841854608.html  \n",
       "1996               r2_1709936842161557.html  \n",
       "1997           github_1709936842409192.html  \n",
       "1998    subeservicios_1709936843217020.html  \n",
       "1999            sixad_1709936844520324.html  \n",
       "\n",
       "[2000 rows x 3 columns]"
      ]
     },
     "execution_count": 9,
     "metadata": {},
     "output_type": "execute_result"
    }
   ],
   "source": [
    "phishingtank_df"
   ]
  },
  {
   "cell_type": "code",
   "execution_count": 10,
   "metadata": {},
   "outputs": [],
   "source": [
    "filt=phishingtank_df['website'] != 0"
   ]
  },
  {
   "cell_type": "code",
   "execution_count": 12,
   "metadata": {},
   "outputs": [],
   "source": [
    "phishing_dataset=phishingtank_df[filt]"
   ]
  },
  {
   "cell_type": "code",
   "execution_count": 17,
   "metadata": {},
   "outputs": [],
   "source": [
    "phishing_dataset.to_csv('../../dataset/phishing/phishing_dataset.csv',index=False)"
   ]
  }
 ],
 "metadata": {
  "kernelspec": {
   "display_name": "testenv",
   "language": "python",
   "name": "python3"
  },
  "language_info": {
   "codemirror_mode": {
    "name": "ipython",
    "version": 3
   },
   "file_extension": ".py",
   "mimetype": "text/x-python",
   "name": "python",
   "nbconvert_exporter": "python",
   "pygments_lexer": "ipython3",
   "version": "3.12.1"
  }
 },
 "nbformat": 4,
 "nbformat_minor": 2
}
