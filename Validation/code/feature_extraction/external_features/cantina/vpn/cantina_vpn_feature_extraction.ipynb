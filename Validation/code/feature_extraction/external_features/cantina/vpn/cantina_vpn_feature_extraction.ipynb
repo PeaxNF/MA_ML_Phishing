{
 "cells": [
  {
   "cell_type": "code",
   "execution_count": 1,
   "metadata": {},
   "outputs": [],
   "source": [
    "import pandas as pd\n",
    "import cantina_vpn_features_fnc\n",
    "import os"
   ]
  },
  {
   "cell_type": "code",
   "execution_count": null,
   "metadata": {},
   "outputs": [],
   "source": [
    "legit_df=pd.read_csv('../../../../../dataset/prepared/legit/legit_prepared_df.csv', keep_default_na=False)\n",
    "cantina_vpn_features_fnc.save_cantina(legit_df,'../../../../../training_data/external_features/cantina/legit/parts','cantina_legit','../../../../../training_data/external_features/cantina/legit/logfile',0)\n",
    "cantina_vpn_features_fnc.combine_parts('../../../../../training_data/external_features/cantina/legit/parts','external_features_cantina_legit','../../../../../training_data/external_features/cantina/legit/parts_merged')"
   ]
  },
  {
   "cell_type": "code",
   "execution_count": null,
   "metadata": {},
   "outputs": [],
   "source": [
    "phishing_df=pd.read_csv('../../../../../dataset/prepared/phishing/phishing_prepared_df.csv', keep_default_na=False)\n",
    "cantina_vpn_features_fnc.save_cantina(phishing_df,'../../../../../training_data/external_features/cantina/phishing/parts','cantina_phishing','../../../../../training_data/external_features/cantina/phishing/logfile',0)\n",
    "cantina_vpn_features_fnc.combine_parts('../../../../../training_data/external_features/cantina/phishing/parts','external_features_cantina_phishing','../../../../../training_data/external_features/cantina/phishing/parts_merged')"
   ]
  }
 ],
 "metadata": {
  "kernelspec": {
   "display_name": "testenv",
   "language": "python",
   "name": "python3"
  },
  "language_info": {
   "codemirror_mode": {
    "name": "ipython",
    "version": 3
   },
   "file_extension": ".py",
   "mimetype": "text/x-python",
   "name": "python",
   "nbconvert_exporter": "python",
   "pygments_lexer": "ipython3",
   "version": "3.12.1"
  }
 },
 "nbformat": 4,
 "nbformat_minor": 2
}
