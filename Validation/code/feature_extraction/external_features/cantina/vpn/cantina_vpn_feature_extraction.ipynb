{
 "cells": [
  {
   "cell_type": "code",
   "execution_count": 1,
   "metadata": {},
   "outputs": [],
   "source": [
    "import pandas as pd\n",
    "import cantina_vpn_features_fnc\n",
    "import os"
   ]
  },
  {
   "cell_type": "code",
   "execution_count": null,
   "metadata": {},
   "outputs": [],
   "source": [
    "legit_df=pd.read_csv('../../../../../dataset/legit/prepared/legit_prepared_df.csv', keep_default_na=False)\n",
    "cantina_vpn_features_fnc.save_cantina(legit_df,'../../../../../extracted_features/external_features/cantina/legit/parts','cantina_legit',0)\n",
    "cantina_vpn_features_fnc.save_cantina_small(legit_df,'../../../../../extracted_features/external_features/cantina/legit/parts','cantina_legit',1000,1007)\n",
    "cantina_vpn_features_fnc.combine_parts('../../../../../extracted_features/external_features/cantina/legit/parts','external_features_cantina_legit.csv','../../../../../extracted_features/external_features/cantina/legit/parts_merged')"
   ]
  },
  {
   "cell_type": "code",
   "execution_count": null,
   "metadata": {},
   "outputs": [],
   "source": [
    "phishing_df=pd.read_csv('../../../../../dataset/phishing/prepared/phishing_prepared_df.csv', keep_default_na=False)\n",
    "cantina_vpn_features_fnc.save_cantina(phishing_df,'../../../../../extracted_features/external_features/cantina/phishing/parts','cantina_phishing',0)\n",
    "cantina_vpn_features_fnc.save_cantina_small(phishing_df,'../../../../../extracted_features/external_features/cantina/phishing/parts','cantina_phishing',1750,1789)\n",
    "cantina_vpn_features_fnc.combine_parts('../../../../../extracted_features/external_features/cantina/phishing/parts','external_features_cantina_phishing.csv','../../../../../extracted_features/external_features/cantina/phishing/parts_merged')"
   ]
  }
 ],
 "metadata": {
  "kernelspec": {
   "display_name": "testenv",
   "language": "python",
   "name": "python3"
  },
  "language_info": {
   "codemirror_mode": {
    "name": "ipython",
    "version": 3
   },
   "file_extension": ".py",
   "mimetype": "text/x-python",
   "name": "python",
   "nbconvert_exporter": "python",
   "pygments_lexer": "ipython3",
   "version": "3.12.1"
  }
 },
 "nbformat": 4,
 "nbformat_minor": 2
}
