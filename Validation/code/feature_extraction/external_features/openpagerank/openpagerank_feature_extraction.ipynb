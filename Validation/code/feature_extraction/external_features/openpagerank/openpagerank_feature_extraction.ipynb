{
 "cells": [
  {
   "cell_type": "code",
   "execution_count": 2,
   "metadata": {},
   "outputs": [],
   "source": [
    "import pandas as pd\n",
    "import openpagerank_feature_fnc"
   ]
  },
  {
   "cell_type": "code",
   "execution_count": null,
   "metadata": {},
   "outputs": [],
   "source": [
    "legit_df=pd.read_csv('../../../../dataset/prepared/legit/legit_prepared_df.csv', keep_default_na=False)\n",
    "openpagerank_legit_df=openpagerank_feature_fnc.openpagerank_features(legit_df)\n",
    "openpagerank_legit_df.to_csv('../../../../training_data/external_features/openpagerank/legit/external_features_googlepagerank_legit.csv',index=False)"
   ]
  },
  {
   "cell_type": "code",
   "execution_count": null,
   "metadata": {},
   "outputs": [],
   "source": [
    "phishing_df=pd.read_csv('../../../../dataset/prepared/phishing/phishing_prepared_df.csv', keep_default_na=False)\n",
    "openpagerank_phishing_df=openpagerank_feature_fnc.openpagerank_features(phishing_df)\n",
    "openpagerank_phishing_df.to_csv('../../../../training_data/external_features/openpagerank/phishing/external_features_googlepagerank_phishing.csv',index=False)"
   ]
  }
 ],
 "metadata": {
  "kernelspec": {
   "display_name": "testenv",
   "language": "python",
   "name": "python3"
  },
  "language_info": {
   "codemirror_mode": {
    "name": "ipython",
    "version": 3
   },
   "file_extension": ".py",
   "mimetype": "text/x-python",
   "name": "python",
   "nbconvert_exporter": "python",
   "pygments_lexer": "ipython3",
   "version": "3.12.1"
  }
 },
 "nbformat": 4,
 "nbformat_minor": 2
}
