{
 "cells": [
  {
   "cell_type": "code",
   "execution_count": 6,
   "metadata": {},
   "outputs": [],
   "source": [
    "import pandas as pd\n",
    "import openpagerank_feature_fnc"
   ]
  },
  {
   "cell_type": "code",
   "execution_count": 4,
   "metadata": {},
   "outputs": [
    {
     "data": {
      "text/plain": [
       "['code', 'dataset', 'extracted_features', 'images']"
      ]
     },
     "execution_count": 4,
     "metadata": {},
     "output_type": "execute_result"
    }
   ],
   "source": [
    "import os\n",
    "os.listdir('../../../../')"
   ]
  },
  {
   "cell_type": "code",
   "execution_count": null,
   "metadata": {},
   "outputs": [],
   "source": [
    "legit_df=pd.read_csv('../../../../dataset/legit/prepared/legit_prepared_df.csv', keep_default_na=False)\n",
    "openpagerank_legit_df=openpagerank_feature_fnc.openpagerank_features(legit_df)\n",
    "openpagerank_legit_df.to_csv('../../../../extracted_features/external_features/openpagerank/legit/external_features_googlepagerank_legit.csv',index=False)"
   ]
  },
  {
   "cell_type": "code",
   "execution_count": null,
   "metadata": {},
   "outputs": [],
   "source": [
    "phishing_df=pd.read_csv('../../../../dataset/phishing/prepared/phishing_prepared_df.csv', keep_default_na=False)\n",
    "openpagerank_phishing_df=openpagerank_feature_fnc.openpagerank_features(phishing_df)\n",
    "openpagerank_phishing_df.to_csv('../../../../extracted_features/external_features/openpagerank/phishing/external_features_googlepagerank_phishing.csv',index=False)"
   ]
  }
 ],
 "metadata": {
  "kernelspec": {
   "display_name": "testenv",
   "language": "python",
   "name": "python3"
  },
  "language_info": {
   "codemirror_mode": {
    "name": "ipython",
    "version": 3
   },
   "file_extension": ".py",
   "mimetype": "text/x-python",
   "name": "python",
   "nbconvert_exporter": "python",
   "pygments_lexer": "ipython3",
   "version": "3.12.1"
  }
 },
 "nbformat": 4,
 "nbformat_minor": 2
}
