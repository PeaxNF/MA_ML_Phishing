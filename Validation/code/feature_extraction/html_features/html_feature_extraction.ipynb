{
 "cells": [
  {
   "cell_type": "code",
   "execution_count": 1,
   "metadata": {},
   "outputs": [],
   "source": [
    "import pandas as pd\n",
    "import html_features_fnc"
   ]
  },
  {
   "cell_type": "code",
   "execution_count": 9,
   "metadata": {},
   "outputs": [
    {
     "data": {
      "text/plain": [
       "[]"
      ]
     },
     "execution_count": 9,
     "metadata": {},
     "output_type": "execute_result"
    }
   ],
   "source": [
    "import os\n",
    "os.listdir('../../../extracted_features/html_features/legit')"
   ]
  },
  {
   "cell_type": "code",
   "execution_count": null,
   "metadata": {},
   "outputs": [],
   "source": [
    "legit_df=pd.read_csv('../../../dataset/legit/prepared/legit_prepared_df.csv', keep_default_na=False)\n",
    "html_features_legit=html_features_fnc.html_features(legit_df)\n",
    "html_features_legit.to_csv('../../../extracted_features/html_features/legit/html_features_legit.csv',index=False)"
   ]
  },
  {
   "cell_type": "code",
   "execution_count": 2,
   "metadata": {},
   "outputs": [],
   "source": [
    "phishing_df=pd.read_csv('../../../dataset/phishing/prepared/phishing_prepared_df.csv', keep_default_na=False)\n",
    "html_features_fnc.precheck(phishing_df)\n",
    "filt=phishing_df['check'] < 1\n",
    "phishing_df=phishing_df[~filt]\n",
    "html_features_phishing=html_features_fnc.html_features(phishing_df)\n",
    "html_features_phishing.to_csv('../../../extracted_features/html_features/phishing/html_features_phishing.csv',index=False)\n"
   ]
  }
 ],
 "metadata": {
  "kernelspec": {
   "display_name": "testenv",
   "language": "python",
   "name": "python3"
  },
  "language_info": {
   "codemirror_mode": {
    "name": "ipython",
    "version": 3
   },
   "file_extension": ".py",
   "mimetype": "text/x-python",
   "name": "python",
   "nbconvert_exporter": "python",
   "pygments_lexer": "ipython3",
   "version": "3.12.1"
  }
 },
 "nbformat": 4,
 "nbformat_minor": 2
}
