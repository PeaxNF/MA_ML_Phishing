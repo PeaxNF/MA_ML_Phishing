{
 "cells": [
  {
   "cell_type": "code",
   "execution_count": 1,
   "metadata": {},
   "outputs": [],
   "source": [
    "import feature_merging_fnc\n",
    "import pandas as pd"
   ]
  },
  {
   "cell_type": "code",
   "execution_count": 16,
   "metadata": {},
   "outputs": [],
   "source": [
    "filepaths_legit_features=['../../../extracted_features/url_features/legit/url_features_legit.csv','../../../extracted_features/html_features/legit/html_features_legit.csv','../../../extracted_features/external_features/openpagerank/legit/external_features_googlepagerank_legit.csv','../../../extracted_features/external_features/cantina/legit/parts_merged/external_features_cantina_legit.csv']\n",
    "filepaths_phishing_features=['../../../extracted_features/url_features/phishing/url_features_phishing.csv','../../../extracted_features/html_features/phishing/html_features_phishing.csv','../../../extracted_features/external_features/openpagerank/phishing/external_features_googlepagerank_phishing.csv','../../../extracted_features/external_features/cantina/phishing/parts_merged/external_features_cantina_phishing.csv']"
   ]
  },
  {
   "cell_type": "code",
   "execution_count": 22,
   "metadata": {},
   "outputs": [
    {
     "name": "stdout",
     "output_type": "stream",
     "text": [
      "0\n",
      "1\n",
      "2\n",
      "3\n",
      "0\n",
      "1\n",
      "2\n",
      "3\n"
     ]
    }
   ],
   "source": [
    "features_merged_df=feature_merging_fnc.dataframe_append(filepaths_legit_features,filepaths_phishing_features)\n",
    "features_merged_df.set_index('url',inplace=True)\n",
    "features_merged_df.to_csv('../../../extracted_features/merged_features/merged_features.csv',index=True)"
   ]
  }
 ],
 "metadata": {
  "kernelspec": {
   "display_name": "testenv",
   "language": "python",
   "name": "python3"
  },
  "language_info": {
   "codemirror_mode": {
    "name": "ipython",
    "version": 3
   },
   "file_extension": ".py",
   "mimetype": "text/x-python",
   "name": "python",
   "nbconvert_exporter": "python",
   "pygments_lexer": "ipython3",
   "version": "3.10.12"
  }
 },
 "nbformat": 4,
 "nbformat_minor": 2
}
