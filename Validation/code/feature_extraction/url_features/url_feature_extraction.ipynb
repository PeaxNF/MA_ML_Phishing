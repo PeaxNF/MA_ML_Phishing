{
 "cells": [
  {
   "cell_type": "code",
   "execution_count": null,
   "metadata": {},
   "outputs": [],
   "source": [
    "import pandas as pd\n",
    "import url_features_fnc"
   ]
  },
  {
   "cell_type": "code",
   "execution_count": 6,
   "metadata": {},
   "outputs": [],
   "source": [
    "legit_df=pd.read_csv('../../../dataset/legit/prepared/legit_prepared_df.csv', keep_default_na=False)\n",
    "url_features_legit=url_features_fnc.feature_generator(legit_df)\n",
    "url_features_legit.to_csv('../../../extracted_features/url_features/legit/url_features_legit.csv',index=False)"
   ]
  },
  {
   "cell_type": "code",
   "execution_count": 11,
   "metadata": {},
   "outputs": [],
   "source": [
    "phishing_df=pd.read_csv('../../../dataset/phishing/prepared/phishing_prepared_df.csv', keep_default_na=False)\n",
    "url_features_phishing=url_features_fnc.feature_generator(phishing_df)\n",
    "url_features_phishing.to_csv('../../../extracted_features/url_features/phishing/url_features_phishing.csv',index=False)"
   ]
  }
 ],
 "metadata": {
  "kernelspec": {
   "display_name": "testenv",
   "language": "python",
   "name": "python3"
  },
  "language_info": {
   "codemirror_mode": {
    "name": "ipython",
    "version": 3
   },
   "file_extension": ".py",
   "mimetype": "text/x-python",
   "name": "python",
   "nbconvert_exporter": "python",
   "pygments_lexer": "ipython3",
   "version": "3.12.1"
  }
 },
 "nbformat": 4,
 "nbformat_minor": 2
}
